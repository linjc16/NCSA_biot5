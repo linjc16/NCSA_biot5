{
 "cells": [
  {
   "cell_type": "code",
   "execution_count": 1,
   "metadata": {},
   "outputs": [
    {
     "name": "stderr",
     "output_type": "stream",
     "text": [
      "/home/jl254/miniconda3/envs/kgllm/lib/python3.8/site-packages/tqdm/auto.py:22: TqdmWarning: IProgress not found. Please update jupyter and ipywidgets. See https://ipywidgets.readthedocs.io/en/stable/user_install.html\n",
      "  from .autonotebook import tqdm as notebook_tqdm\n",
      "Downloading tokenizer_config.json: 100%|██████████| 534k/534k [00:00<00:00, 45.8MB/s]\n",
      "Downloading spiece.model: 100%|██████████| 792k/792k [00:00<00:00, 21.1MB/s]\n",
      "Downloading added_tokens.json: 100%|██████████| 61.0k/61.0k [00:00<00:00, 80.8MB/s]\n",
      "Downloading (…)cial_tokens_map.json: 100%|██████████| 2.38k/2.38k [00:00<00:00, 6.84MB/s]\n",
      "Downloading tokenizer.json: 100%|██████████| 2.97M/2.97M [00:00<00:00, 76.5MB/s]\n",
      "Special tokens have been added in the vocabulary, make sure the associated word embeddings are fine-tuned or trained.\n",
      "Downloading config.json: 100%|██████████| 792/792 [00:00<00:00, 621kB/s]\n",
      "Downloading pytorch_model.bin: 100%|██████████| 1.01G/1.01G [00:25<00:00, 38.9MB/s]\n",
      "Downloading generation_config.json: 100%|██████████| 142/142 [00:00<00:00, 94.7kB/s]\n"
     ]
    }
   ],
   "source": [
    "from transformers import T5Tokenizer, T5ForConditionalGeneration\n",
    "\n",
    "tokenizer = T5Tokenizer.from_pretrained(\"QizhiPei/biot5-base-text2mol\", model_max_length=512, cache_dir='/data/pj20')\n",
    "model = T5ForConditionalGeneration.from_pretrained('QizhiPei/biot5-base-text2mol')\n",
    "\n"
   ]
  },
  {
   "cell_type": "code",
   "execution_count": 2,
   "metadata": {},
   "outputs": [
    {
     "name": "stdout",
     "output_type": "stream",
     "text": [
      "[O][=C][Branch1][C][O-1][C][C][S][=Branch1][C][=O][O-1]\n",
      "O=C([O-1])CCS(=O)[O-1]\n"
     ]
    }
   ],
   "source": [
    "task_definition = 'Definition: You are given a molecule description in English. Your job is to generate the molecule SELFIES that fits the description.\\n\\n'\n",
    "text_input = 'The molecule is a monocarboxylic acid anion obtained by deprotonation of the carboxy and sulfino groups of 3-sulfinopropionic acid. Major microspecies at pH 7.3 It is an organosulfinate oxoanion and a monocarboxylic acid anion. It is a conjugate base of a 3-sulfinopropionic acid.'\n",
    "task_input = f'Now complete the following example -\\nInput: {text_input}\\nOutput: '\n",
    "\n",
    "model_input = task_definition + task_input\n",
    "input_ids = tokenizer(model_input, return_tensors=\"pt\").input_ids\n",
    "\n",
    "generation_config = model.generation_config\n",
    "generation_config.max_length = 512\n",
    "generation_config.num_beams = 1\n",
    "\n",
    "outputs = model.generate(input_ids, generation_config=generation_config)\n",
    "output_selfies = tokenizer.decode(outputs[0], skip_special_tokens=True).replace(' ', '')\n",
    "print(output_selfies)\n",
    "\n",
    "import selfies as sf\n",
    "output_smiles = sf.decoder(output_selfies)\n",
    "print(output_smiles)\n"
   ]
  },
  {
   "cell_type": "code",
   "execution_count": null,
   "metadata": {},
   "outputs": [],
   "source": []
  }
 ],
 "metadata": {
  "kernelspec": {
   "display_name": "kgllm",
   "language": "python",
   "name": "python3"
  },
  "language_info": {
   "codemirror_mode": {
    "name": "ipython",
    "version": 3
   },
   "file_extension": ".py",
   "mimetype": "text/x-python",
   "name": "python",
   "nbconvert_exporter": "python",
   "pygments_lexer": "ipython3",
   "version": "3.8.18"
  },
  "orig_nbformat": 4
 },
 "nbformat": 4,
 "nbformat_minor": 2
}
