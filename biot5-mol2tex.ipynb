{
 "cells": [
  {
   "cell_type": "code",
   "execution_count": 2,
   "metadata": {},
   "outputs": [
    {
     "name": "stderr",
     "output_type": "stream",
     "text": [
      "Downloading tokenizer_config.json: 100%|██████████| 534k/534k [00:00<00:00, 108MB/s]\n",
      "Downloading spiece.model: 100%|██████████| 792k/792k [00:00<00:00, 52.9MB/s]\n",
      "Downloading added_tokens.json: 100%|██████████| 61.0k/61.0k [00:00<00:00, 14.4MB/s]\n",
      "Downloading (…)cial_tokens_map.json: 100%|██████████| 2.38k/2.38k [00:00<00:00, 820kB/s]\n",
      "Downloading tokenizer.json: 100%|██████████| 2.97M/2.97M [00:00<00:00, 97.9MB/s]\n",
      "Special tokens have been added in the vocabulary, make sure the associated word embeddings are fine-tuned or trained.\n",
      "Downloading pytorch_model.bin: 100%|██████████| 1.01G/1.01G [00:22<00:00, 44.3MB/s]\n",
      "Downloading generation_config.json: 100%|██████████| 142/142 [00:00<00:00, 92.7kB/s]\n"
     ]
    },
    {
     "name": "stdout",
     "output_type": "stream",
     "text": [
      "The molecule is a medium-chain fatty acid anion comprising hexanoate substituted at C-2 and C-4 with oxo and hydroxy groups respectively. It is a 2-oxo monocarboxylic acid anion, a straight-chain saturated fatty acid anion, a medium-chain fatty acid anion, a hydroxy fatty acid anion and an oxo fatty acid anion. It derives from a hexanoate. It is a conjugate base of a 4-hydroxy-2-oxohexanoic acid.\n"
     ]
    }
   ],
   "source": [
    "from transformers import T5Tokenizer, T5ForConditionalGeneration\n",
    "\n",
    "tokenizer = T5Tokenizer.from_pretrained(\"QizhiPei/biot5-base-mol2text\", model_max_length=512, cache_dir='/data/pj20/')\n",
    "model = T5ForConditionalGeneration.from_pretrained('QizhiPei/biot5-base-mol2text')\n"
   ]
  },
  {
   "cell_type": "code",
   "execution_count": 3,
   "metadata": {},
   "outputs": [
    {
     "name": "stdout",
     "output_type": "stream",
     "text": [
      "The molecule is a medium-chain fatty acid anion comprising hexanoate substituted at C-2 and C-4 with oxo and hydroxy groups respectively. It is a 2-oxo monocarboxylic acid anion, a straight-chain saturated fatty acid anion, a medium-chain fatty acid anion, a hydroxy fatty acid anion and an oxo fatty acid anion. It derives from a hexanoate. It is a conjugate base of a 4-hydroxy-2-oxohexanoic acid.\n"
     ]
    }
   ],
   "source": [
    "task_definition = 'Definition: You are given a molecule SELFIES. Your job is to generate the molecule description in English that fits the molecule SELFIES.\\n\\n'\n",
    "selfies_input = '[C][C][Branch1][C][O][C][C][=Branch1][C][=O][C][=Branch1][C][=O][O-1]'\n",
    "task_input = f'Now complete the following example -\\nInput: <bom>{selfies_input}<eom>\\nOutput: '\n",
    "\n",
    "model_input = task_definition + task_input\n",
    "input_ids = tokenizer(model_input, return_tensors=\"pt\").input_ids\n",
    "\n",
    "generation_config = model.generation_config\n",
    "generation_config.max_length = 512\n",
    "generation_config.num_beams = 1\n",
    "\n",
    "outputs = model.generate(input_ids, generation_config=generation_config)\n",
    "\n",
    "print(tokenizer.decode(outputs[0], skip_special_tokens=True))"
   ]
  },
  {
   "cell_type": "code",
   "execution_count": null,
   "metadata": {},
   "outputs": [],
   "source": []
  }
 ],
 "metadata": {
  "kernelspec": {
   "display_name": "kgllm",
   "language": "python",
   "name": "python3"
  },
  "language_info": {
   "codemirror_mode": {
    "name": "ipython",
    "version": 3
   },
   "file_extension": ".py",
   "mimetype": "text/x-python",
   "name": "python",
   "nbconvert_exporter": "python",
   "pygments_lexer": "ipython3",
   "version": "3.8.18"
  },
  "orig_nbformat": 4
 },
 "nbformat": 4,
 "nbformat_minor": 2
}
